{
 "cells": [
  {
   "cell_type": "code",
   "execution_count": 1,
   "metadata": {},
   "outputs": [],
   "source": [
    "import numpy as np"
   ]
  },
  {
   "cell_type": "code",
   "execution_count": 2,
   "metadata": {},
   "outputs": [],
   "source": [
    "# Загрузка данных о производстве электроэнергии\n",
    "generation_data = np.genfromtxt('global-electricity-generation.csv', delimiter=',', skip_header=1, encoding='utf-8')\n",
    "\n",
    "# Загрузка данных о потреблении электроэнергии\n",
    "consumption_data = np.genfromtxt('global-electricity-consumption.csv', delimiter=',', skip_header=1,encoding='utf-8')\n",
    "countries_data = np.genfromtxt(\n",
    "    'global-electricity-consumption.csv', delimiter=',', dtype=str, encoding='utf-8', skip_header=True\n",
    ")\n",
    "# Извлечение названий стран\n",
    "countries = countries_data[:, 0]\n",
    "\n",
    "# Извлечение данных о производстве и потреблении (массивы)\n",
    "generation_values = generation_data[:, 1:].astype(float)\n",
    "consumption_values = consumption_data[:, 1:].astype(float)"
   ]
  },
  {
   "cell_type": "code",
   "execution_count": 3,
   "metadata": {},
   "outputs": [
    {
     "data": {
      "text/plain": [
       "array([[1.71990000e+01, 1.82670000e+01, 1.87030000e+01, ...,\n",
       "        7.66850000e+01, 7.27359128e+01, 7.75307272e+01],\n",
       "       [1.28300000e+00, 1.33200000e+00, 1.34200000e+00, ...,\n",
       "        1.54000000e+01, 1.66000000e+01, 1.64293920e+01],\n",
       "       [2.30000000e-02, 2.40000000e-02, 4.80000000e-02, ...,\n",
       "        2.01700000e-01, 2.26080000e-01, 2.41097280e-01],\n",
       "       ...,\n",
       "       [9.59000000e-01, 9.78000000e-01, 9.94000000e-01, ...,\n",
       "        6.19000000e-01, 6.48800000e-01, 6.92507200e-01],\n",
       "       [8.79000000e+00, 7.89500000e+00, 7.59200000e+00, ...,\n",
       "        1.60469350e+01, 1.35435000e+01, 1.58235200e+01],\n",
       "       [6.57440000e+01, 6.75790000e+01, 6.94980000e+01, ...,\n",
       "        8.30407800e+01, 9.42312421e+01, 9.47467054e+01]], shape=(217, 30))"
      ]
     },
     "execution_count": 3,
     "metadata": {},
     "output_type": "execute_result"
    }
   ],
   "source": [
    "generation_values"
   ]
  },
  {
   "cell_type": "code",
   "execution_count": 4,
   "metadata": {},
   "outputs": [
    {
     "data": {
      "text/plain": [
       "array([[14.035     , 14.039     , 14.365     , ..., 66.646     ,\n",
       "        63.69490277, 68.66337919],\n",
       "       [ 1.013     ,  1.062     ,  1.071     , ..., 13.658591  ,\n",
       "        14.754764  , 14.56049071],\n",
       "       [ 0.229     ,  0.221     ,  0.252     , ...,  0.9297    ,\n",
       "         0.52408   ,  0.52338299],\n",
       "       ...,\n",
       "       [ 0.89187   ,  0.90954   ,  0.92442   , ...,  0.568     ,\n",
       "         0.5978    ,  0.6415072 ],\n",
       "       [ 4.201     ,  4.54      ,  4.733     , ..., 11.713604  ,\n",
       "        11.780227  , 13.61377336],\n",
       "       [53.23      , 54.594     , 55.203     , ..., 56.532821  ,\n",
       "        70.47945808, 71.04766385]], shape=(217, 30))"
      ]
     },
     "execution_count": 4,
     "metadata": {},
     "output_type": "execute_result"
    }
   ],
   "source": [
    "consumption_values"
   ]
  },
  {
   "cell_type": "code",
   "execution_count": 5,
   "metadata": {},
   "outputs": [
    {
     "data": {
      "text/plain": [
       "array(['Algeria', 'Angola', 'Benin', 'Botswana', 'Burkina Faso',\n",
       "       'Burundi', 'Cabo Verde', 'Cameroon', 'Central African Republic',\n",
       "       'Chad', 'Comoros', 'Congo-Brazzaville', 'Congo-Kinshasa',\n",
       "       \"Cote d'Ivoire\", 'Djibouti', 'Egypt', 'Equatorial Guinea',\n",
       "       'Eritrea', 'Eswatini', 'Ethiopia', 'Gabon', 'Gambia', 'Ghana',\n",
       "       'Guinea', 'Guinea-Bissau', 'Kenya', 'Lesotho', 'Liberia', 'Libya',\n",
       "       'Madagascar', 'Malawi', 'Mali', 'Mauritania', 'Mauritius',\n",
       "       'Morocco', 'Mozambique', 'Namibia', 'Niger', 'Nigeria', 'Reunion',\n",
       "       'Rwanda', 'Saint Helena', 'Sao Tome and Principe', 'Senegal',\n",
       "       'Seychelles', 'Sierra Leone', 'Somalia', 'South Africa', 'Sudan',\n",
       "       'Tanzania', 'Togo', 'Tunisia', 'Uganda', 'Western Sahara',\n",
       "       'Zambia', 'Zimbabwe', 'Armenia', 'Azerbaijan', 'Belarus',\n",
       "       'Georgia', 'Kazakhstan', 'Kyrgyzstan', 'Moldova', 'Russia',\n",
       "       'Tajikistan', 'Turkmenistan', 'Ukraine', 'Uzbekistan', 'Albania',\n",
       "       'Austria', 'Belgium', 'Bosnia and Herzegovina', 'Bulgaria',\n",
       "       'Croatia', 'Cyprus', 'Czechia', 'Denmark', 'Estonia',\n",
       "       'Faroe Islands', 'Finland', 'France', 'Germany', 'Gibraltar',\n",
       "       'Greece', 'Hungary', 'Iceland', 'Ireland', 'Italy', 'Latvia',\n",
       "       'Lithuania', 'Luxembourg', 'Malta', 'Montenegro', 'Netherlands',\n",
       "       'North Macedonia', 'Norway', 'Poland', 'Portugal', 'Romania',\n",
       "       'Serbia', 'Slovakia', 'Slovenia', 'Spain', 'Sweden', 'Switzerland',\n",
       "       'Turkiye', 'United Kingdom', 'Afghanistan', 'American Samoa',\n",
       "       'Australia', 'Bangladesh', 'Bhutan', 'Brunei', 'Burma', 'Cambodia',\n",
       "       'China', 'Cook Islands', 'Fiji', 'French Polynesia', 'Guam',\n",
       "       'Hong Kong', 'India', 'Indonesia', 'Japan', 'Kiribati', 'Laos',\n",
       "       'Macau', 'Malaysia', 'Maldives', 'Mongolia', 'Nauru', 'Nepal',\n",
       "       'New Caledonia', 'New Zealand', 'Niue', 'North Korea', 'Pakistan',\n",
       "       'Papua New Guinea', 'Philippines', 'Samoa', 'Singapore',\n",
       "       'Solomon Islands', 'South Korea', 'Sri Lanka', 'Taiwan',\n",
       "       'Thailand', 'Timor-Leste', 'Tonga', 'U.S. Pacific Islands',\n",
       "       'Vanuatu', 'Vietnam', 'Wake Island', 'Bahrain', 'Iran', 'Iraq',\n",
       "       'Israel', 'Jordan', 'Kuwait', 'Lebanon', 'Oman',\n",
       "       'Palestinian Territories', 'Qatar', 'Saudi Arabia', 'Syria',\n",
       "       'United Arab Emirates', 'Yemen', 'Bermuda', 'Canada', 'Greenland',\n",
       "       'Mexico', 'Saint Pierre and Miquelon', 'United States',\n",
       "       'Antarctica', 'Antigua and Barbuda', 'Argentina', 'Aruba',\n",
       "       'Barbados', 'Belize', 'Bolivia', 'Brazil',\n",
       "       'British Virgin Islands', 'Cayman Islands', 'Chile', 'Colombia',\n",
       "       'Costa Rica', 'Cuba', 'Dominica', 'Dominican Republic', 'Ecuador',\n",
       "       'El Salvador', 'Falkland Islands', 'French Guiana', 'Grenada',\n",
       "       'Guadeloupe', 'Guatemala', 'Guyana', 'Haiti', 'Honduras',\n",
       "       'Jamaica', 'Martinique', 'Montserrat', 'Netherlands Antilles',\n",
       "       'Nicaragua', 'Panama', 'Paraguay', 'Peru', 'Puerto Rico',\n",
       "       'Saint Kitts and Nevis', 'Saint Lucia', 'Saint Vincent/Grenadines',\n",
       "       'Suriname', 'The Bahamas', 'Trinidad and Tobago',\n",
       "       'Turks and Caicos Islands', 'U.S. Virgin Islands', 'Uruguay',\n",
       "       'Venezuela'], dtype='<U25')"
      ]
     },
     "execution_count": 5,
     "metadata": {},
     "output_type": "execute_result"
    }
   ],
   "source": [
    "countries"
   ]
  },
  {
   "cell_type": "code",
   "execution_count": 6,
   "metadata": {},
   "outputs": [],
   "source": [
    "def print_with_countries(array):\n",
    "    if len(array) != len(countries):\n",
    "        return\n",
    "    for label,row in zip(countries, array):\n",
    "        print(f\"{label}: {row}\")"
   ]
  },
  {
   "cell_type": "code",
   "execution_count": 7,
   "metadata": {},
   "outputs": [
    {
     "name": "stdout",
     "output_type": "stream",
     "text": [
      "Algeria: 74.111225992\n",
      "Angola: 14.387474400000002\n",
      "Benin: 0.234131456\n",
      "Botswana: 2.6190496320000003\n",
      "Burkina Faso: 1.6852565679999998\n",
      "Burundi: 0.3224672784\n",
      "Cabo Verde: 0.45439525319999996\n",
      "Cameroon: 8.162567280800001\n",
      "Central African Republic: 0.1510808\n",
      "Chad: 0.30453447440000003\n",
      "Comoros: 0.1099824\n",
      "Congo-Brazzaville: 3.4661865039999995\n",
      "Congo-Kinshasa: 10.793868066\n",
      "Cote d'Ivoire: 10.241595440000001\n",
      "Djibouti: 0.0562689348\n",
      "Egypt: 196.52500264000003\n",
      "Equatorial Guinea: 1.383245312\n",
      "Eritrea: 0.4328978116\n",
      "Eswatini: 0.72491401\n",
      "Ethiopia: 14.011813694\n",
      "Gabon: 2.2197497872\n",
      "Gambia: 0.30430875939999996\n",
      "Ghana: 17.006206560000003\n",
      "Guinea: 2.262209321\n",
      "Guinea-Bissau: 0.0817928\n",
      "Kenya: 11.401842775999999\n",
      "Lesotho: 0.5165135999999999\n",
      "Liberia: 0.5666464\n",
      "Libya: 31.443706388\n",
      "Madagascar: 2.1142556927999996\n",
      "Malawi: 1.7106578689999998\n",
      "Mali: 3.3467105724\n",
      "Mauritania: 1.7359868123999997\n",
      "Mauritius: 2.9321521329999998\n",
      "Morocco: 36.960538400000004\n",
      "Mozambique: 18.3195429\n",
      "Namibia: 1.607572\n",
      "Niger: 0.5104543999999999\n",
      "Nigeria: 31.496988624\n",
      "Reunion: nan\n",
      "Rwanda: 0.88108324\n",
      "Saint Helena: 0.0082418984\n",
      "Sao Tome and Principe: 0.09150928\n",
      "Senegal: 5.0316582006\n",
      "Seychelles: 0.54939056\n",
      "Sierra Leone: 0.2191891806\n",
      "Somalia: 0.36573599999999995\n",
      "South Africa: 229.31783693999995\n",
      "Sudan: 16.101762624\n",
      "Tanzania: 7.599170665600001\n",
      "Togo: 0.650779101\n",
      "Tunisia: 19.946013986\n",
      "Uganda: 4.279688916\n",
      "Western Sahara: 0.0\n",
      "Zambia: 15.609365\n",
      "Zimbabwe: 8.078440519199999\n",
      "Armenia: 7.364567352\n",
      "Azerbaijan: 24.411916599999998\n",
      "Belarus: 37.375420778\n",
      "Georgia: 11.725879999999998\n",
      "Kazakhstan: 100.98472593400001\n",
      "Kyrgyzstan: 15.215763200000001\n",
      "Moldova: 5.7768060000000006\n",
      "Russia: 1059.9929956\n",
      "Tajikistan: 19.481076\n",
      "Turkmenistan: 21.014388605999997\n",
      "Ukraine: 146.95399999999998\n",
      "Uzbekistan: 58.550203233999994\n",
      "Albania: 6.4800226\n",
      "Austria: 65.09119528000001\n",
      "Belgium: 85.01043758\n",
      "Bosnia and Herzegovina: 16.661326272\n",
      "Bulgaria: 39.574046880000004\n",
      "Croatia: 12.822963620000001\n",
      "Cyprus: 4.8118282\n",
      "Czechia: 77.71428223999999\n",
      "Denmark: 30.5868144\n",
      "Estonia: 8.42522974\n",
      "Faroe Islands: 0.37271231999999993\n",
      "Finland: 67.73102696\n",
      "France: 533.2189509\n",
      "Germany: 581.55840426\n",
      "Gibraltar: 0.2023204722\n",
      "Greece: 48.21749054\n",
      "Hungary: 32.19927344\n",
      "Iceland: 19.088053600000002\n",
      "Ireland: 30.853678539999997\n",
      "Italy: 275.2623717\n",
      "Latvia: 6.11998712\n",
      "Lithuania: 3.291265180000001\n",
      "Luxembourg: 0.7167082\n",
      "Malta: 1.94214712\n",
      "Montenegro: 2.9565022569999995\n",
      "Netherlands: 116.17941288\n",
      "North Macedonia: 5.26183228\n",
      "Norway: 147.20896508\n",
      "Poland: 154.01324792\n",
      "Portugal: 52.37209322\n",
      "Romania: 56.03254870000001\n",
      "Serbia: 33.954158500000005\n",
      "Slovakia: 25.974934280000003\n",
      "Slovenia: 15.226724779999998\n",
      "Spain: 259.3423331\n",
      "Sweden: 162.24168816000002\n",
      "Switzerland: 61.47782942\n",
      "Turkiye: 295.92583742\n",
      "United Kingdom: 310.06399990000006\n",
      "Afghanistan: 1.027650784\n",
      "American Samoa: 0.1674859856\n",
      "Australia: 249.40149884\n",
      "Bangladesh: 75.73247667799998\n",
      "Bhutan: 8.2888856776\n",
      "Brunei: 4.3338421028\n",
      "Burma: 22.499049413999998\n",
      "Cambodia: 8.064029673399999\n",
      "China: 7190.0225706\n",
      "Cook Islands: 0.042292\n",
      "Fiji: 1.1047013074\n",
      "French Polynesia: 0.6403331013999999\n",
      "Guam: 1.754121848\n",
      "Hong Kong: 34.478908268\n",
      "India: 1595.2492692\n",
      "Indonesia: 279.3158668\n",
      "Japan: 983.8801401200001\n",
      "Kiribati: 0.031065159999999998\n",
      "Laos: 34.78107936\n",
      "Macau: 0.8198756416\n",
      "Malaysia: 160.125822\n",
      "Maldives: 0.6336828296\n",
      "Mongolia: 6.4056977074\n",
      "Nauru: 0.03671776\n",
      "Nepal: 5.6766550158\n",
      "New Caledonia: 3.1399204392\n",
      "New Zealand: 43.429585364000005\n",
      "Niue: 0.0032448000000000004\n",
      "North Korea: 14.548506219999998\n",
      "Pakistan: 138.90778696\n",
      "Papua New Guinea: 4.522404766999999\n",
      "Philippines: 102.18569346\n",
      "Samoa: 0.162102784\n",
      "Singapore: 51.267135200000006\n",
      "Solomon Islands: 0.10902061199999999\n",
      "South Korea: 558.3550898599999\n",
      "Sri Lanka: 15.489760541999999\n",
      "Taiwan: 274.133884\n",
      "Thailand: 184.12846280000002\n",
      "Timor-Leste: 0.4880312032\n",
      "Tonga: 0.069445952\n",
      "U.S. Pacific Islands: 0.5134080518\n",
      "Vanuatu: 0.069245165\n",
      "Vietnam: 220.19584046\n",
      "Wake Island: 0.0\n",
      "Bahrain: 29.666276674\n",
      "Iran: 320.40246958\n",
      "Iraq: 88.71709716199999\n",
      "Israel: 70.5797962\n",
      "Jordan: 20.02778293\n",
      "Kuwait: 69.33960492199999\n",
      "Lebanon: 20.094032076\n",
      "Oman: 35.277886016\n",
      "Palestinian Territories: 0.6679025732\n",
      "Qatar: 45.46100833199999\n",
      "Saudi Arabia: 358.54624164\n",
      "Syria: 16.74437527\n",
      "United Arab Emirates: 129.25548781999998\n",
      "Yemen: 3.4595128799999997\n",
      "Bermuda: 0.5870296356\n",
      "Canada: 631.60639854\n",
      "Greenland: 0.5344603360000001\n",
      "Mexico: 324.33895223999997\n",
      "Saint Pierre and Miquelon: 0.049653112799999996\n",
      "United States: 4130.2690856\n",
      "Antarctica: 0.0\n",
      "Antigua and Barbuda: 0.3366882482\n",
      "Argentina: 139.19661688000002\n",
      "Aruba: 0.9124805078\n",
      "Barbados: 1.0214037902\n",
      "Belize: 0.7345874446\n",
      "Bolivia: 9.784779296\n",
      "Brazil: 614.18486198\n",
      "British Virgin Islands: 0.1377992002\n",
      "Cayman Islands: 0.6868109974000001\n",
      "Chile: 80.95970054\n",
      "Colombia: 78.57111658\n",
      "Costa Rica: 11.7164468\n",
      "Cuba: 19.382208150000004\n",
      "Dominica: 0.114412128\n",
      "Dominican Republic: 18.42606471\n",
      "Ecuador: 30.555388800000003\n",
      "El Salvador: 5.928476359599999\n",
      "Falkland Islands: 0.01991956\n",
      "French Guiana: nan\n",
      "Grenada: 0.21255909779999999\n",
      "Guadeloupe: nan\n",
      "Guatemala: 13.693996799999999\n",
      "Guyana: 1.1831308814000001\n",
      "Haiti: 0.9851558998\n",
      "Honduras: 10.776054802\n",
      "Jamaica: 4.1884157885999995\n",
      "Martinique: nan\n",
      "Montserrat: 0.017368208\n",
      "Netherlands Antilles: 0.8662859941999999\n",
      "Nicaragua: 4.489078019799999\n",
      "Panama: 10.782416458\n",
      "Paraguay: 50.7176664\n",
      "Peru: 54.932248400000006\n",
      "Puerto Rico: 17.268657272000002\n",
      "Saint Kitts and Nevis: 0.21186531679999998\n",
      "Saint Lucia: 0.3584508766\n",
      "Saint Vincent/Grenadines: 0.1505339112\n",
      "Suriname: 1.9356906641999998\n",
      "The Bahamas: 2.0481935786000003\n",
      "Trinidad and Tobago: 8.600769499399998\n",
      "Turks and Caicos Islands: 0.2484804\n",
      "U.S. Virgin Islands: 0.61870944\n",
      "Uruguay: 14.834898999999998\n",
      "Venezuela: 94.097173498\n",
      "Algeria: 64.280354392\n",
      "Angola: 12.765318342\n",
      "Benin: 0.8581895988000001\n",
      "Botswana: 3.5882636320000003\n",
      "Burkina Faso: 2.4187854822\n",
      "Burundi: 0.382465344\n",
      "Cabo Verde: 0.32455052460000006\n",
      "Cameroon: 6.2976909728\n",
      "Central African Republic: 0.14108079999999998\n",
      "Chad: 0.2582244744\n",
      "Comoros: 0.0791329572\n",
      "Congo-Brazzaville: 1.8929293612000002\n",
      "Congo-Kinshasa: 9.146169346799999\n",
      "Cote d'Ivoire: 7.136653005599999\n",
      "Djibouti: 0.4861089348\n",
      "Egypt: 162.09972592\n",
      "Equatorial Guinea: 1.2378114405999998\n",
      "Eritrea: 0.387190135\n",
      "Eswatini: 1.530080668\n",
      "Ethiopia: 9.381304496000002\n",
      "Gabon: 2.2686187518000005\n",
      "Gambia: 0.2485277\n",
      "Ghana: 14.862776991999999\n",
      "Guinea: 1.9721922055999996\n",
      "Guinea-Bissau: 0.07699275720000001\n",
      "Kenya: 8.9887796276\n",
      "Lesotho: 0.8716924206\n",
      "Liberia: 0.5218219678\n",
      "Libya: 25.733814324\n",
      "Madagascar: 1.9948472122000003\n",
      "Malawi: 1.254509869\n",
      "Mali: 2.6307105724\n",
      "Mauritania: 1.7149268124\n",
      "Mauritius: 2.764592133\n",
      "Morocco: 32.397028770000006\n",
      "Mozambique: 12.947129637999998\n",
      "Namibia: 4.038777690800001\n",
      "Niger: 1.24842729\n",
      "Nigeria: 26.590760386\n",
      "Reunion: 0.0\n",
      "Rwanda: 0.7633137928\n",
      "Saint Helena: 0.006684298399999999\n",
      "Sao Tome and Principe: 0.0796126994\n",
      "Senegal: 4.6977852006\n",
      "Seychelles: 0.51945056\n",
      "Sierra Leone: 0.1405891806\n",
      "Somalia: 0.34353262860000006\n",
      "South Africa: 200.64908812000002\n",
      "Sudan: 12.90743151\n",
      "Tanzania: 6.645504221\n",
      "Togo: 1.2503993010000003\n",
      "Tunisia: 15.986978557999999\n",
      "Uganda: 2.946861716\n",
      "Western Sahara: 0.0\n",
      "Zambia: 12.855507058\n",
      "Zimbabwe: 8.1102591568\n",
      "Armenia: 5.744767351999999\n",
      "Azerbaijan: 21.3565966\n",
      "Belarus: 34.289437467999996\n",
      "Georgia: 12.071756952\n",
      "Kazakhstan: 91.705676782\n",
      "Kyrgyzstan: 12.110093727999999\n",
      "Moldova: 6.616206\n",
      "Russia: 946.67879564\n",
      "Tajikistan: 14.906001338000001\n",
      "Turkmenistan: 14.906086706000002\n",
      "Ukraine: 127.12269636\n",
      "Uzbekistan: 54.570125698000005\n",
      "Albania: 6.6179953748\n",
      "Austria: 67.45781281999999\n",
      "Belgium: 84.01744874\n",
      "Bosnia and Herzegovina: 11.594297699999998\n",
      "Bulgaria: 30.443245852\n",
      "Croatia: 16.316691931999998\n",
      "Cyprus: 4.6060859132\n",
      "Czechia: 61.31811054\n",
      "Denmark: 35.00159984\n",
      "Estonia: 8.5748771\n",
      "Faroe Islands: 0.35343448359999996\n",
      "Finland: 83.24617134\n",
      "France: 445.22326373999994\n",
      "Germany: 520.23463954\n",
      "Gibraltar: 0.1956188874\n",
      "Greece: 51.36480250000001\n",
      "Hungary: 41.792352699999995\n",
      "Iceland: 18.534018619999998\n",
      "Ireland: 28.821054780000004\n",
      "Italy: 296.44321744\n",
      "Latvia: 6.76433568\n",
      "Lithuania: 11.29476618\n",
      "Luxembourg: 6.44814032\n",
      "Malta: 2.4109055200000005\n",
      "Montenegro: 2.727182257\n",
      "Netherlands: 113.16250674\n",
      "North Macedonia: 6.381102755400001\n",
      "Norway: 125.6636564\n",
      "Poland: 151.14790696\n",
      "Portugal: 48.40772482\n",
      "Romania: 49.558194236000006\n",
      "Serbia: 29.676496596000003\n",
      "Slovakia: 26.34536406\n",
      "Slovenia: 13.65392358\n",
      "Spain: 240.3715325\n",
      "Sweden: 129.96320562\n",
      "Switzerland: 56.10307379999999\n",
      "Turkiye: 263.4906876\n",
      "United Kingdom: 303.5439968\n",
      "Afghanistan: 5.3811874424\n",
      "American Samoa: 0.157162123\n",
      "Australia: 238.59747842000002\n",
      "Bangladesh: 71.10562379199999\n",
      "Bhutan: 2.4822903442\n",
      "Brunei: 3.8664421027999993\n",
      "Burma: 17.83611817\n",
      "Cambodia: 9.466800162000002\n",
      "China: 6846.206992600001\n",
      "Cook Islands: 0.040492\n",
      "Fiji: 1.027825301\n",
      "French Polynesia: 0.6157331654\n",
      "Guam: 1.6659396026\n",
      "Hong Kong: 45.012981488\n",
      "India: 1330.9362418\n",
      "Indonesia: 256.32985952\n",
      "Japan: 940.32185964\n",
      "Kiribati: 0.026425160000000003\n",
      "Laos: 5.3298940772000005\n",
      "Macau: 5.4501463102\n",
      "Malaysia: 146.49321277999996\n",
      "Maldives: 0.61238198\n",
      "Mongolia: 7.129206109\n",
      "Nauru: 0.030748230199999997\n",
      "Nepal: 6.801365308399999\n",
      "New Caledonia: 3.0755310038000006\n",
      "New Zealand: 40.481219764\n",
      "Niue: 0.0028695229999999997\n",
      "North Korea: 12.238256095999999\n",
      "Pakistan: 121.09866952\n",
      "Papua New Guinea: 4.2170214338\n",
      "Philippines: 92.836470262\n",
      "Samoa: 0.14641211739999999\n",
      "Singapore: 50.695097522\n",
      "Solomon Islands: 0.0922354692\n",
      "South Korea: 539.51160504\n",
      "Sri Lanka: 14.169836742000001\n",
      "Taiwan: 265.07196974000004\n",
      "Thailand: 196.75148492\n",
      "Timor-Leste: 0.39120263180000003\n",
      "Tonga: 0.063625952\n",
      "U.S. Pacific Islands: 0.49203005180000003\n",
      "Vanuatu: 0.063539165\n",
      "Vietnam: 206.11583802\n",
      "Wake Island: 0.0\n",
      "Bahrain: 29.243148544\n",
      "Iran: 282.5080035\n",
      "Iraq: 50.192481648\n",
      "Israel: 61.645013399999996\n",
      "Jordan: 17.954720966\n",
      "Kuwait: 62.730561138\n",
      "Lebanon: 18.15168701\n",
      "Oman: 31.664095414000002\n",
      "Palestinian Territories: 5.8573282874000006\n",
      "Qatar: 42.678522618\n",
      "Saudi Arabia: 324.51712577999996\n",
      "Syria: 12.59262347\n",
      "United Arab Emirates: 121.78948782\n",
      "Yemen: 2.75058048\n",
      "Bermuda: 0.5459896356\n",
      "Canada: 547.31965094\n",
      "Greenland: 0.5176603592\n",
      "Mexico: 285.82553399999995\n",
      "Saint Pierre and Miquelon: 0.0486501794\n",
      "United States: 3957.497224\n",
      "Antarctica: 0.0\n",
      "Antigua and Barbuda: 0.28668824820000005\n",
      "Argentina: 124.66281688000001\n",
      "Aruba: 0.7506805078000001\n",
      "Barbados: 0.9738623214000001\n",
      "Belize: 0.9772694446000001\n",
      "Bolivia: 8.900297424600002\n",
      "Brazil: 539.9334819799999\n",
      "British Virgin Islands: 0.1165992002\n",
      "Cayman Islands: 0.6578109974\n",
      "Chile: 77.38100837999998\n",
      "Colombia: 73.10575587999999\n",
      "Costa Rica: 9.88611036\n",
      "Cuba: 16.021173863999998\n",
      "Dominica: 0.10832792799999999\n",
      "Dominican Republic: 16.05907091\n",
      "Ecuador: 25.55934225\n",
      "El Salvador: 6.3138030901999995\n",
      "Falkland Islands: 0.019319467200000003\n",
      "French Guiana: 0.0\n",
      "Grenada: 0.19387500740000002\n",
      "Guadeloupe: 0.0\n",
      "Guatemala: 11.393225284\n",
      "Guyana: 0.9401634907999998\n",
      "Haiti: 0.3557332384\n",
      "Honduras: 7.6123852024000005\n",
      "Jamaica: 3.0402729192\n",
      "Martinique: 0.0\n",
      "Montserrat: 0.016986208\n",
      "Netherlands Antilles: 0.7396781282\n",
      "Nicaragua: 4.1348952552\n",
      "Panama: 9.0772392316\n",
      "Paraguay: 11.7862041142\n",
      "Peru: 48.8196734\n",
      "Puerto Rico: 16.290272672\n",
      "Saint Kitts and Nevis: 0.1708653168\n",
      "Saint Lucia: 0.33190267660000006\n",
      "Saint Vincent/Grenadines: 0.1405807246\n",
      "Suriname: 2.3600666642\n",
      "The Bahamas: 1.9289640970000002\n",
      "Trinidad and Tobago: 8.2067122994\n",
      "Turks and Caicos Islands: 0.235626056\n",
      "U.S. Virgin Islands: 0.56510944\n",
      "Uruguay: 11.995070471999998\n",
      "Venezuela: 66.243982786\n"
     ]
    }
   ],
   "source": [
    "# 2. Построение одномерных массивов ежегодного производства и потребления электроэнергии за последние 5 лет\n",
    "# Для производства электроэнергии\n",
    "generation_last_5_years = generation_values[:, -5:].mean(axis=1)\n",
    "\n",
    "# Для потребления электроэнергии\n",
    "consumption_last_5_years = consumption_values[:, -5:].mean(axis=1)\n",
    "\n",
    "print_with_countries(generation_last_5_years)\n",
    "\n",
    "print_with_countries(consumption_last_5_years)"
   ]
  },
  {
   "cell_type": "code",
   "execution_count": 8,
   "metadata": {},
   "outputs": [
    {
     "name": "stdout",
     "output_type": "stream",
     "text": [
      "Algeria: 1014.3770919599999\n",
      "Angola: 142.82546271\n",
      "Benin: 18.709247994000002\n",
      "Botswana: 77.37524816\n",
      "Burkina Faso: 28.712167411000003\n",
      "Burundi: 6.015226719999999\n",
      "Cabo Verde: 5.816851622999999\n",
      "Cameroon: 122.091184864\n",
      "Central African Republic: 3.9378740000000003\n",
      "Chad: 4.487112372\n",
      "Comoros: 1.0400607860000002\n",
      "Congo-Brazzaville: 23.502026805999996\n",
      "Congo-Kinshasa: 184.08354673400007\n",
      "Cote d'Ivoire: 117.771755028\n",
      "Djibouti: 9.059488673999999\n",
      "Egypt: 3121.3981096\n",
      "Equatorial Guinea: 14.374737202999999\n",
      "Eritrea: nan\n",
      "Eswatini: 37.909313340000004\n",
      "Ethiopia: 125.18926248\n",
      "Gabon: 43.670273759000004\n",
      "Gambia: 5.406058499999999\n",
      "Ghana: 244.60322596\n",
      "Guinea: 29.732851028000002\n",
      "Guinea-Bissau: 1.3134697859999998\n",
      "Kenya: 168.009430138\n",
      "Lesotho: 16.780210103\n",
      "Liberia: 8.403889839\n",
      "Libya: 568.31873162\n",
      "Madagascar: 36.556486061\n",
      "Malawi: 39.581795344999996\n",
      "Mali: 30.627392862\n",
      "Mauritania: 22.880342061999993\n",
      "Mauritius: 58.372668665\n",
      "Morocco: 628.0873718500001\n",
      "Mozambique: 233.44198819000005\n",
      "Namibia: 83.33430845400001\n",
      "Niger: 19.897916449999997\n",
      "Nigeria: 524.3192819299999\n",
      "Reunion: 36.70059\n",
      "Rwanda: 9.765026464\n",
      "Saint Helena: 0.186943932\n",
      "Sao Tome and Principe: 1.161843497\n",
      "Senegal: 67.61344600299999\n",
      "Seychelles: 8.538494799999999\n",
      "Sierra Leone: 3.9293159029999996\n",
      "Somalia: 8.177303143000001\n",
      "South Africa: 5775.5349106\n",
      "Sudan: 164.48803754999997\n",
      "Tanzania: 106.886481105\n",
      "Togo: 21.021686505\n",
      "Tunisia: 338.97549279000003\n",
      "Uganda: 44.67141177999999\n",
      "Western Sahara: 1.46264\n",
      "Zambia: 261.33198629\n",
      "Zimbabwe: 260.62253578400004\n",
      "Armenia: 137.17111176\n",
      "Azerbaijan: 515.0613230000001\n",
      "Belarus: 922.3262273400003\n",
      "Georgia: 247.82674476000003\n",
      "Kazakhstan: 2050.60132391\n",
      "Kyrgyzstan: 270.36032864\n",
      "Moldova: 202.82303000000002\n",
      "Russia: 24564.136358200005\n",
      "Tajikistan: 418.41622669000003\n",
      "Turkmenistan: 306.44651353\n",
      "Ukraine: 4330.275282799999\n",
      "Uzbekistan: 1271.5294494900002\n",
      "Albania: 138.260876874\n",
      "Austria: 1769.7449140999997\n",
      "Belgium: 2395.9070157\n",
      "Bosnia and Herzegovina: 257.48063850000005\n",
      "Bulgaria: 902.74697826\n",
      "Croatia: 418.56521666\n",
      "Cyprus: 110.562950566\n",
      "Czechia: nan\n",
      "Denmark: 999.6719201999999\n",
      "Estonia: 212.06953650000003\n",
      "Faroe Islands: 7.503495088\n",
      "Finland: 2356.6366107\n",
      "France: 12814.596773700001\n",
      "Germany: 15670.9298887\n",
      "Gibraltar: 4.157064437\n",
      "Greece: 1465.9725644999999\n",
      "Hungary: 1066.9596235\n",
      "Iceland: 352.35869310000004\n",
      "Ireland: 680.8261629000001\n",
      "Italy: 8576.574545200001\n",
      "Latvia: 179.2878714\n",
      "Lithuania: 283.44836790000005\n",
      "Luxembourg: 177.53836060000003\n",
      "Malta: 54.1911826\n",
      "Montenegro: nan\n",
      "Netherlands: 3106.4053147000004\n",
      "North Macedonia: 186.883805777\n",
      "Norway: 3415.474744\n",
      "Poland: 3774.8595218000005\n",
      "Portugal: 1270.4964490999998\n",
      "Romania: 1430.74361018\n",
      "Serbia: nan\n",
      "Slovakia: nan\n",
      "Slovenia: 360.24206610000005\n",
      "Spain: 6436.1397115\n",
      "Sweden: 3962.7997041\n",
      "Switzerland: 1603.9347770000002\n",
      "Turkiye: 4630.1260600000005\n",
      "United Kingdom: 9658.9279372\n",
      "Afghanistan: 68.271807212\n",
      "American Samoa: 4.630770614999999\n",
      "Australia: 6055.808108100001\n",
      "Bangladesh: 951.8469299599999\n",
      "Bhutan: 36.196331721\n",
      "Brunei: 86.33617051400002\n",
      "Burma: 213.28591085000002\n",
      "Cambodia: 84.61763081\n",
      "China: 96010.081091\n",
      "Cook Islands: 0.8289620000000002\n",
      "Fiji: 23.226745065\n",
      "French Polynesia: 15.631195826999997\n",
      "Guam: 48.07179547300001\n",
      "Hong Kong: 1152.8518644399999\n",
      "India: 20944.408447899994\n",
      "Indonesia: 4074.3312376000003\n",
      "Japan: 28241.330572199997\n",
      "Kiribati: 0.5096578\n",
      "Laos: 64.265890386\n",
      "Macau: 90.89912155100001\n",
      "Malaysia: 2664.3235639000004\n",
      "Maldives: 8.4376299\n",
      "Mongolia: 118.46640296000001\n",
      "Nauru: 0.738629951\n",
      "Nepal: 86.400874542\n",
      "New Caledonia: 59.21684741\n",
      "New Zealand: 1121.6153566699998\n",
      "Niue: 0.08377228300000002\n",
      "North Korea: 507.05236048000006\n",
      "Pakistan: 2155.2094186\n",
      "Papua New Guinea: 84.652290503\n",
      "Philippines: 1614.81997011\n",
      "Samoa: 2.9825145870000003\n",
      "Singapore: 1081.6430876099998\n",
      "Solomon Islands: 2.053230346\n",
      "South Korea: 10981.546404200002\n",
      "Sri Lanka: 242.22832371\n",
      "Taiwan: 6071.807517730002\n",
      "Thailand: 3755.9594192199997\n",
      "Timor-Leste: nan\n",
      "Tonga: 1.2332906400000005\n",
      "U.S. Pacific Islands: 11.257690259000002\n",
      "Vanuatu: 1.3475332280000003\n",
      "Vietnam: 2397.7049901\n",
      "Wake Island: 0.0\n",
      "Bahrain: 512.76009272\n",
      "Iran: 4789.1299875\n",
      "Iraq: 979.64946824\n",
      "Israel: 1347.6916069999997\n",
      "Jordan: 321.84532483\n",
      "Kuwait: 1201.02822569\n",
      "Lebanon: 347.99391504999994\n",
      "Oman: 451.11449707\n",
      "Palestinian Territories: nan\n",
      "Qatar: 613.0681200899999\n",
      "Saudi Arabia: 5658.0179289\n",
      "Syria: 529.11933735\n",
      "United Arab Emirates: 2007.7423191\n",
      "Yemen: 93.42588239999999\n",
      "Bermuda: 17.499611996\n",
      "Canada: 15669.6144927\n",
      "Greenland: 10.825151796\n",
      "Mexico: 6053.500613\n",
      "Saint Pierre and Miquelon: 1.2459553170000002\n",
      "United States: 109908.72573299998\n",
      "Antarctica: 0.021855\n",
      "Antigua and Barbuda: 6.547676241\n",
      "Argentina: 2801.4571094000007\n",
      "Aruba: 20.024224539\n",
      "Barbados: 24.473611607000002\n",
      "Belize: 14.207094777999998\n",
      "Bolivia: 155.339755123\n",
      "Brazil: 11973.6539279\n",
      "British Virgin Islands: 2.7351002390000003\n",
      "Cayman Islands: 13.974144987\n",
      "Chile: 1516.5105588999998\n",
      "Colombia: 1419.9932864\n",
      "Costa Rica: 221.98100402199995\n",
      "Cuba: 393.83407932\n",
      "Dominica: 2.36587064\n",
      "Dominican Republic: 312.09577455\n",
      "Ecuador: 429.2437402500001\n",
      "El Salvador: 139.19913745099998\n",
      "Falkland Islands: 0.463163336\n",
      "French Guiana: 11.79426\n",
      "Grenada: 4.316734036999999\n",
      "Guadeloupe: 24.839463000000002\n",
      "Guatemala: 199.44989642\n",
      "Guyana: 18.500501121\n",
      "Haiti: 9.372906191999999\n",
      "Honduras: 134.363656012\n",
      "Jamaica: 123.690784596\n",
      "Martinique: 22.30698\n",
      "Montserrat: 0.52832104\n",
      "Netherlands Antilles: 25.876183641000004\n",
      "Nicaragua: 73.08203727600001\n",
      "Panama: 165.26961159799998\n",
      "Paraguay: 196.60710390399998\n",
      "Peru: 841.813987\n",
      "Puerto Rico: 562.55125346\n",
      "Saint Kitts and Nevis: 3.5476565840000007\n",
      "Saint Lucia: 8.001606423\n",
      "Saint Vincent/Grenadines: 3.146350763\n",
      "Suriname: 50.19128143200002\n",
      "The Bahamas: 50.212749484999996\n",
      "Trinidad and Tobago: 190.11282149700003\n",
      "Turks and Caicos Islands: 4.21470028\n",
      "U.S. Virgin Islands: 23.4697262\n",
      "Uruguay: 243.55235236000004\n",
      "Venezuela: 2086.75225393\n"
     ]
    }
   ],
   "source": [
    "# 3.1. Суммарное потребление электроэнергии за каждый год\n",
    "total_consumption_per_year = consumption_values.sum(axis=1)\n",
    "print_with_countries(total_consumption_per_year)"
   ]
  },
  {
   "cell_type": "code",
   "execution_count": 9,
   "metadata": {},
   "outputs": [
    {
     "name": "stdout",
     "output_type": "stream",
     "text": [
      "Algeria: 77.53072719\n",
      "Angola: 16.6\n",
      "Benin: 0.3115\n",
      "Botswana: 3.0469\n",
      "Burkina Faso: 1.761209666\n",
      "Burundi: 0.357991644\n",
      "Cabo Verde: 0.463\n",
      "Cameroon: 8.35484\n",
      "Central African Republic: 0.1744\n",
      "Chad: 0.312431184\n",
      "Comoros: 0.13832\n",
      "Congo-Brazzaville: 4.02026152\n",
      "Congo-Kinshasa: 11.952925\n",
      "Cote d'Ivoire: 10.9822272\n",
      "Djibouti: 0.4075\n",
      "Egypt: 202.2553182\n",
      "Equatorial Guinea: 1.41812456\n",
      "Eritrea: 0.452873507\n",
      "Eswatini: 0.806\n",
      "Ethiopia: 14.67815115\n",
      "Gabon: 2.286328839\n",
      "Gambia: 0.3131\n",
      "Ghana: 20.9306928\n",
      "Guinea: 3.203097677\n",
      "Guinea-Bissau: 0.082458\n",
      "Kenya: 11.83251388\n",
      "Lesotho: 0.694\n",
      "Liberia: 0.920232\n",
      "Libya: 35.6387\n",
      "Madagascar: 2.27079\n",
      "Malawi: 2.204601\n",
      "Mali: 3.53727\n",
      "Mauritania: 1.875855218\n",
      "Mauritius: 3.0869\n",
      "Morocco: 41.150914\n",
      "Mozambique: 19.90774462\n",
      "Namibia: 1.957\n",
      "Niger: 0.60342\n",
      "Nigeria: 32.78739\n",
      "Reunion: 2.893\n",
      "Rwanda: 1.011711\n",
      "Saint Helena: 0.009\n",
      "Sao Tome and Principe: 0.1005464\n",
      "Senegal: 5.615708528\n",
      "Seychelles: 0.6431768\n",
      "Sierra Leone: 0.254672\n",
      "Somalia: 0.40788\n",
      "South Africa: 245.56207\n",
      "Sudan: 16.59542448\n",
      "Tanzania: 8.168690514\n",
      "Togo: 0.7703\n",
      "Tunisia: 20.92347402\n",
      "Uganda: 4.44987172\n",
      "Western Sahara: 0.09\n",
      "Zambia: 17.714251\n",
      "Zimbabwe: 9.70712\n",
      "Armenia: 8.615\n",
      "Azerbaijan: 26.299773\n",
      "Belarus: 43.86748389\n",
      "Georgia: 12.645\n",
      "Kazakhstan: 104.4782558\n",
      "Kyrgyzstan: 16.174\n",
      "Moldova: 10.586\n",
      "Russia: 1109.689916\n",
      "Tajikistan: 20.58658\n",
      "Turkmenistan: 21.40182971\n",
      "Ukraine: 238.232\n",
      "Uzbekistan: 60.11528\n",
      "Albania: 8.962943\n",
      "Austria: 68.8018868\n",
      "Belgium: 94.8636857\n",
      "Bosnia and Herzegovina: 18.20808\n",
      "Bulgaria: 46.73622\n",
      "Croatia: 14.6034781\n",
      "Cyprus: 5.00806\n",
      "Czechia: 82.55662\n",
      "Denmark: 50.509\n",
      "Estonia: 11.959914\n",
      "Faroe Islands: 0.4223616\n",
      "Finland: 82.06266\n",
      "France: 552.9287295\n",
      "Germany: 620.117876\n",
      "Gibraltar: 0.21056\n",
      "Greece: 59.09142\n",
      "Hungary: 37.74876\n",
      "Iceland: 19.4324979\n",
      "Ireland: 33.5958721\n",
      "Italy: 295.01606\n",
      "Latvia: 7.17202\n",
      "Lithuania: 17.645\n",
      "Luxembourg: 2.99818\n",
      "Malta: 2.17328\n",
      "Montenegro: 3.91868\n",
      "Netherlands: 119.0127664\n",
      "North Macedonia: 6.94626\n",
      "Norway: 157.5030781\n",
      "Poland: 166.5566896\n",
      "Portugal: 57.805044\n",
      "Romania: 62.36612\n",
      "Serbia: 37.03382\n",
      "Slovakia: 30.64922\n",
      "Slovenia: 16.163572\n",
      "Spain: 295.63654\n",
      "Sweden: 165.646854\n",
      "Switzerland: 66.0905137\n",
      "Turkiye: 328.8368523\n",
      "United Kingdom: 372.62865\n",
      "Afghanistan: 1.26426\n",
      "American Samoa: 0.187\n",
      "Australia: 250.6580269\n",
      "Bangladesh: 80.56857266\n",
      "Bhutan: 9.001040409\n",
      "Brunei: 4.684993947\n",
      "Burma: 23.73348\n",
      "Cambodia: 8.694232326\n",
      "China: 8151.518231\n",
      "Cook Islands: 0.047\n",
      "Fiji: 1.13913172\n",
      "French Polynesia: 0.701\n",
      "Guam: 1.85\n",
      "Hong Kong: 37.46182\n",
      "India: 1702.094\n",
      "Indonesia: 306.572439\n",
      "Japan: 1079.223897\n",
      "Kiribati: 0.0337778\n",
      "Laos: 39.9708168\n",
      "Macau: 1.905\n",
      "Malaysia: 165.0016777\n",
      "Maldives: 0.661988689\n",
      "Mongolia: 7.120148234\n",
      "Nauru: 0.041964\n",
      "Nepal: 6.31837724\n",
      "New Caledonia: 3.361824196\n",
      "New Zealand: 43.81966993\n",
      "Niue: 0.003724\n",
      "North Korea: 27.218\n",
      "Pakistan: 150.1680188\n",
      "Papua New Guinea: 4.859902835\n",
      "Philippines: 108.2093933\n",
      "Samoa: 0.17800992\n",
      "Singapore: 53.477576\n",
      "Solomon Islands: 0.1153698\n",
      "South Korea: 587.3062261\n",
      "Sri Lanka: 16.35218245\n",
      "Taiwan: 286.9623345\n",
      "Thailand: 190.611836\n",
      "Timor-Leste: 0.536760016\n",
      "Tonga: 0.07792576\n",
      "U.S. Pacific Islands: 0.55\n",
      "Vanuatu: 0.071650234\n",
      "Vietnam: 243.7683215\n",
      "Wake Island: 0.0\n",
      "Bahrain: 31.76875608\n",
      "Iran: 340.8830609\n",
      "Iraq: 97.25926481\n",
      "Israel: 73.081029\n",
      "Jordan: 21.86231465\n",
      "Kuwait: 71.22098276\n",
      "Lebanon: 20.56947779\n",
      "Oman: 36.55777031\n",
      "Palestinian Territories: 0.856460299\n",
      "Qatar: 47.50360488\n",
      "Saudi Arabia: 366.6580506\n",
      "Syria: 43.79074\n",
      "United Arab Emirates: 135.62807\n",
      "Yemen: 7.99594\n",
      "Bermuda: 0.69372\n",
      "Canada: 644.788913\n",
      "Greenland: 0.599709626\n",
      "Mexico: 336.9582235\n",
      "Saint Pierre and Miquelon: 0.054483184\n",
      "United States: 4210.526978\n",
      "Antarctica: 0.004\n",
      "Antigua and Barbuda: 0.35087519\n",
      "Argentina: 146.5655285\n",
      "Aruba: 0.928712\n",
      "Barbados: 1.070544653\n",
      "Belize: 0.86802\n",
      "Bolivia: 10.58310648\n",
      "Brazil: 662.5953567\n",
      "British Virgin Islands: 0.199478\n",
      "Cayman Islands: 0.731392687\n",
      "Chile: 84.7168173\n",
      "Colombia: 80.9048712\n",
      "Costa Rica: 12.714574\n",
      "Cuba: 19.75129234\n",
      "Dominica: 0.17109964\n",
      "Dominican Republic: 19.632464\n",
      "Ecuador: 32.339773\n",
      "El Salvador: 6.560065798\n",
      "Falkland Islands: 0.0213\n",
      "French Guiana: 1.104\n",
      "Grenada: 0.217495\n",
      "Guadeloupe: 1.716\n",
      "Guatemala: 14.449429\n",
      "Guyana: 1.230907892\n",
      "Haiti: 1.04616\n",
      "Honduras: 11.96905101\n",
      "Jamaica: 7.0381\n",
      "Martinique: 1.589\n",
      "Montserrat: 0.023\n",
      "Netherlands Antilles: 1.28512\n",
      "Nicaragua: 4.624157975\n",
      "Panama: 11.20340229\n",
      "Paraguay: 63.30294\n",
      "Peru: 58.135907\n",
      "Puerto Rico: 24.9622843\n",
      "Saint Kitts and Nevis: 0.215865022\n",
      "Saint Lucia: 0.37843632\n",
      "Saint Vincent/Grenadines: 0.164227508\n",
      "Suriname: 2.020408283\n",
      "The Bahamas: 2.145067\n",
      "Trinidad and Tobago: 8.9971\n",
      "Turks and Caicos Islands: 0.27254\n",
      "U.S. Virgin Islands: 1.025\n",
      "Uruguay: 16.046935\n",
      "Venezuela: 120.0401\n"
     ]
    }
   ],
   "source": [
    "# 3.2. Максимальное количество электроэнергии, которое произвела одна страна\n",
    "max_generation = np.nanmax(generation_values, axis=1)\n",
    "print_with_countries(max_generation)"
   ]
  },
  {
   "cell_type": "code",
   "execution_count": 10,
   "metadata": {},
   "outputs": [
    {
     "name": "stdout",
     "output_type": "stream",
     "text": [
      "['Russia' 'France' 'Germany' 'China' 'India' 'Japan' 'South Korea'\n",
      " 'Canada' 'United States' 'Brazil']\n"
     ]
    }
   ],
   "source": [
    "# 3.3. Страны, производящие более 500 млрд. кВт*ч\n",
    "countries_over_500billion = countries[generation_last_5_years > 500]\n",
    "print(countries_over_500billion)"
   ]
  },
  {
   "cell_type": "code",
   "execution_count": 11,
   "metadata": {},
   "outputs": [
    {
     "data": {
      "text/plain": [
       "array(['South Africa', 'Russia', 'France', 'Germany', 'Italy', 'Spain',\n",
       "       'Turkiye', 'United Kingdom', 'Australia', 'China', 'India',\n",
       "       'Indonesia', 'Japan', 'South Korea', 'Taiwan', 'Vietnam', 'Iran',\n",
       "       'Saudi Arabia', 'Canada', 'Mexico', 'United States', 'Brazil'],\n",
       "      dtype='<U25')"
      ]
     },
     "execution_count": 11,
     "metadata": {},
     "output_type": "execute_result"
    }
   ],
   "source": [
    "# 3.4. 10% стран, потребляющих больше всего\n",
    "quantile = np.percentile(consumption_last_5_years, 90)\n",
    "top_10_percent_consumption = countries[consumption_last_5_years > quantile]\n",
    "top_10_percent_consumption"
   ]
  },
  {
   "cell_type": "code",
   "execution_count": 12,
   "metadata": {},
   "outputs": [
    {
     "data": {
      "text/plain": [
       "array(['Angola', 'Benin', 'Equatorial Guinea', 'Ethiopia', 'Lesotho',\n",
       "       'Mali', 'Mauritania', 'Mozambique', 'Namibia', 'Sudan', 'Cambodia',\n",
       "       'China', 'Laos', 'Maldives', 'Vietnam', 'Turks and Caicos Islands'],\n",
       "      dtype='<U25')"
      ]
     },
     "execution_count": 12,
     "metadata": {},
     "output_type": "execute_result"
    }
   ],
   "source": [
    "# 3.5. Страны, которые увеличили производство в 2021 году более чем в 10 раз\n",
    "countries_increased_production = countries[generation_values[:, -1] > 10 * generation_values[:, 0]]\n",
    "countries_increased_production"
   ]
  },
  {
   "cell_type": "code",
   "execution_count": 13,
   "metadata": {},
   "outputs": [
    {
     "data": {
      "text/plain": [
       "array(['Zimbabwe', 'Belarus', 'Moldova', 'Belgium', 'Croatia', 'Finland',\n",
       "       'Hungary', 'Italy', 'Latvia', 'Luxembourg', 'Netherlands',\n",
       "       'North Macedonia', 'Hong Kong'], dtype='<U25')"
      ]
     },
     "execution_count": 13,
     "metadata": {},
     "output_type": "execute_result"
    }
   ],
   "source": [
    "# 3.6. Страны, потратившие больше 100 млрд. кВт*ч и произведшие меньше\n",
    "countries_consumption_more_than_100 = countries[(consumption_values.sum(axis=1) > 100) & (generation_values.sum(axis=1) < consumption_values.sum(axis=1))]\n",
    "countries_consumption_more_than_100"
   ]
  },
  {
   "cell_type": "code",
   "execution_count": 14,
   "metadata": {},
   "outputs": [],
   "source": [
    "# 3.7. Страна, потратившая наибольшее количество электроэнергии в 2020 году"
   ]
  },
  {
   "cell_type": "code",
   "execution_count": 15,
   "metadata": {},
   "outputs": [
    {
     "data": {
      "text/plain": [
       "np.str_('Gambia')"
      ]
     },
     "execution_count": 15,
     "metadata": {},
     "output_type": "execute_result"
    }
   ],
   "source": [
    "country_max_consumption_2020 = countries[np.argmax(consumption_values[28])]\n",
    "country_max_consumption_2020"
   ]
  },
  {
   "cell_type": "markdown",
   "metadata": {},
   "source": [
    "Задача 2\n",
    "1. Сформировать систему линейных уравнений для полинома второй степени"
   ]
  },
  {
   "cell_type": "code",
   "execution_count": 16,
   "metadata": {},
   "outputs": [
    {
     "data": {
      "text/plain": [
       "array([[ 0.2       , -6.57266488],\n",
       "       [ 0.4       , -5.37046782],\n",
       "       [ 0.6       , -3.15858504],\n",
       "       [ 0.8       , -1.48270657],\n",
       "       [ 1.        , -0.12384439],\n",
       "       [ 1.2       ,  2.40389623],\n",
       "       [ 1.4       ,  4.14683298],\n",
       "       [ 1.6       ,  6.32790239],\n",
       "       [ 1.8       ,  8.82291549],\n",
       "       [ 2.        , 10.88542758],\n",
       "       [ 2.2       , 13.31557662],\n",
       "       [ 2.4       , 15.47213024],\n",
       "       [ 2.6       , 17.26743396],\n",
       "       [ 2.8       , 18.81843147],\n",
       "       [ 3.        , 20.6263378 ],\n",
       "       [ 3.2       , 23.04006768],\n",
       "       [ 3.4       , 23.92053257],\n",
       "       [ 3.6       , 25.32216894],\n",
       "       [ 3.8       , 26.52298732],\n",
       "       [ 4.        , 26.76261011],\n",
       "       [ 4.2       , 27.65896563],\n",
       "       [ 4.4       , 27.35973442],\n",
       "       [ 4.6       , 27.37007024],\n",
       "       [ 4.8       , 26.15215361],\n",
       "       [ 5.        , 25.23920411]])"
      ]
     },
     "execution_count": 16,
     "metadata": {},
     "output_type": "execute_result"
    }
   ],
   "source": [
    "data = np.genfromtxt('data2.csv', delimiter=';', skip_header=1).astype(float)\n",
    "data"
   ]
  },
  {
   "cell_type": "code",
   "execution_count": 17,
   "metadata": {},
   "outputs": [
    {
     "data": {
      "text/plain": [
       "array([0.2, 0.4, 0.6, 0.8, 1. , 1.2, 1.4, 1.6, 1.8, 2. , 2.2, 2.4, 2.6,\n",
       "       2.8, 3. , 3.2, 3.4, 3.6, 3.8, 4. , 4.2, 4.4, 4.6, 4.8, 5. ])"
      ]
     },
     "execution_count": 17,
     "metadata": {},
     "output_type": "execute_result"
    }
   ],
   "source": [
    "discounts = data[:, 0] # скидка\n",
    "discounts"
   ]
  },
  {
   "cell_type": "code",
   "execution_count": 18,
   "metadata": {},
   "outputs": [
    {
     "data": {
      "text/plain": [
       "array([-6.57266488, -5.37046782, -3.15858504, -1.48270657, -0.12384439,\n",
       "        2.40389623,  4.14683298,  6.32790239,  8.82291549, 10.88542758,\n",
       "       13.31557662, 15.47213024, 17.26743396, 18.81843147, 20.6263378 ,\n",
       "       23.04006768, 23.92053257, 25.32216894, 26.52298732, 26.76261011,\n",
       "       27.65896563, 27.35973442, 27.37007024, 26.15215361, 25.23920411])"
      ]
     },
     "execution_count": 18,
     "metadata": {},
     "output_type": "execute_result"
    }
   ],
   "source": [
    "profits = data[:, 1]  # прибыль\n",
    "profits"
   ]
  },
  {
   "cell_type": "code",
   "execution_count": 19,
   "metadata": {},
   "outputs": [
    {
     "name": "stdout",
     "output_type": "stream",
     "text": [
      "0 -6.572664883\n",
      "12 17.26743396\n",
      "24 25.23920411\n"
     ]
    }
   ],
   "source": [
    "# Выбираем три точки\n",
    "x1, x2, x3 = 0, len(discounts) // 2, len(discounts) - 1\n",
    "y1, y2, y3 = profits[x1], profits[x2], profits[x3]\n",
    "print(x1,y1)\n",
    "print(x2,y2)\n",
    "print(x3,y3)"
   ]
  },
  {
   "cell_type": "code",
   "execution_count": 20,
   "metadata": {},
   "outputs": [
    {
     "data": {
      "text/plain": [
       "array([[ 0.04,  0.2 ,  1.  ],\n",
       "       [ 6.76,  2.6 ,  1.  ],\n",
       "       [25.  ,  5.  ,  1.  ]])"
      ]
     },
     "execution_count": 20,
     "metadata": {},
     "output_type": "execute_result"
    }
   ],
   "source": [
    "# Формируем систему уравнений для полинома второй степени\n",
    "A = np.array([[discounts[x1]**2, discounts[x1], 1],\n",
    "              [discounts[x2]**2, discounts[x2], 1],\n",
    "              [discounts[x3]**2, discounts[x3], 1]])\n",
    "A"
   ]
  },
  {
   "cell_type": "code",
   "execution_count": 21,
   "metadata": {},
   "outputs": [
    {
     "data": {
      "text/plain": [
       "array([-6.57266488, 17.26743396, 25.23920411])"
      ]
     },
     "execution_count": 21,
     "metadata": {},
     "output_type": "execute_result"
    }
   ],
   "source": [
    "b = np.array([y1, y2, y3])\n",
    "b"
   ]
  },
  {
   "cell_type": "code",
   "execution_count": 22,
   "metadata": {},
   "outputs": [
    {
     "data": {
      "text/plain": [
       "array([-1.37745909, 13.79025996, -9.27561851])"
      ]
     },
     "execution_count": 22,
     "metadata": {},
     "output_type": "execute_result"
    }
   ],
   "source": [
    "# Решаем систему линейных уравнений\n",
    "coefficients = np.linalg.solve(A, b)\n",
    "coefficients"
   ]
  },
  {
   "cell_type": "code",
   "execution_count": 23,
   "metadata": {},
   "outputs": [
    {
     "data": {
      "text/plain": [
       "array([-6.57266488, -3.97990798, -1.49734781,  0.87501564,  3.13718236,\n",
       "        5.28915236,  7.33092563,  9.26250217, 11.08388198, 12.79506506,\n",
       "       14.39605142, 15.88684106, 17.26743396, 18.53783014, 19.69802959,\n",
       "       20.74803231, 21.68783831, 22.51744758, 23.23686012, 23.84607594,\n",
       "       24.34509503, 24.73391739, 25.01254302, 25.18097193, 25.23920411])"
      ]
     },
     "execution_count": 23,
     "metadata": {},
     "output_type": "execute_result"
    }
   ],
   "source": [
    "# 2. Решаем систему уравнений и строим полином\n",
    "# Полученные коэффициенты полинома\n",
    "a2, a1, a0 = coefficients\n",
    "\n",
    "# Построение полинома для всех значений скидки\n",
    "polynomial_values = a2 * discounts**2 + a1 * discounts + a0\n",
    "polynomial_values"
   ]
  },
  {
   "cell_type": "code",
   "execution_count": 24,
   "metadata": {},
   "outputs": [
    {
     "data": {
      "image/png": "[encoded data removed]",
      "text/plain": [
       "<Figure size 640x480 with 1 Axes>"
      ]
     },
     "metadata": {},
     "output_type": "display_data"
    }
   ],
   "source": [
    "import matplotlib.pyplot as plt\n",
    "\n",
    "# Построение графика\n",
    "plt.scatter(discounts, profits, color='blue', label='Исходные данные')\n",
    "plt.plot(discounts, polynomial_values, color='red', label='Полином второй степени')\n",
    "plt.xlabel('Скидка')\n",
    "plt.ylabel('Прибыль')\n",
    "plt.legend()\n",
    "plt.show()\n"
   ]
  },
  {
   "cell_type": "code",
   "execution_count": 25,
   "metadata": {},
   "outputs": [
    {
     "data": {
      "text/plain": [
       "np.float64(120.78752609259324)"
      ]
     },
     "execution_count": 25,
     "metadata": {},
     "output_type": "execute_result"
    }
   ],
   "source": [
    "# 4. Расчет квадратичного отклонения (RSS)\n",
    "RSS = np.sum((profits - polynomial_values)**2)\n",
    "RSS"
   ]
  },
  {
   "cell_type": "code",
   "execution_count": 26,
   "metadata": {},
   "outputs": [
    {
     "name": "stdout",
     "output_type": "stream",
     "text": [
      "0 -6.572664883\n",
      "8 8.822915493\n",
      "12 17.26743396\n",
      "24 25.23920411\n"
     ]
    }
   ],
   "source": [
    "# Выбираем 4 точки: одну в начале, одну в середине, одну в конце и одну точку в конце\n",
    "x1, x2, x3, x4 = 0, len(discounts) // 3, len(discounts) // 2, len(discounts) - 1\n",
    "y1, y2, y3, y4 = profits[x1], profits[x2], profits[x3], profits[x4]\n",
    "\n",
    "print(x1,y1)\n",
    "print(x2,y2)\n",
    "print(x3,y3)\n",
    "print(x4, y4)"
   ]
  },
  {
   "cell_type": "code",
   "execution_count": 27,
   "metadata": {},
   "outputs": [
    {
     "data": {
      "text/plain": [
       "array([[8.0000e-03, 4.0000e-02, 2.0000e-01, 1.0000e+00],\n",
       "       [5.8320e+00, 3.2400e+00, 1.8000e+00, 1.0000e+00],\n",
       "       [1.7576e+01, 6.7600e+00, 2.6000e+00, 1.0000e+00],\n",
       "       [1.2500e+02, 2.5000e+01, 5.0000e+00, 1.0000e+00]])"
      ]
     },
     "execution_count": 27,
     "metadata": {},
     "output_type": "execute_result"
    }
   ],
   "source": [
    "# Формируем систему уравнений для полинома третьей степени\n",
    "A3 = np.array([[discounts[x1]**3, discounts[x1]**2, discounts[x1], 1],\n",
    "               [discounts[x2]**3, discounts[x2]**2, discounts[x2], 1],\n",
    "               [discounts[x3]**3, discounts[x3]**2, discounts[x3], 1],\n",
    "               [discounts[x4]**3, discounts[x4]**2, discounts[x4], 1]])\n",
    "A3"
   ]
  },
  {
   "cell_type": "code",
   "execution_count": 28,
   "metadata": {},
   "outputs": [
    {
     "data": {
      "text/plain": [
       "array([-6.57266488,  8.82291549, 17.26743396, 25.23920411])"
      ]
     },
     "execution_count": 28,
     "metadata": {},
     "output_type": "execute_result"
    }
   ],
   "source": [
    "b3 = np.array([y1, y2, y3, y4])\n",
    "b3"
   ]
  },
  {
   "cell_type": "code",
   "execution_count": 29,
   "metadata": {},
   "outputs": [
    {
     "data": {
      "text/plain": [
       "array([-0.55199377,  2.92809232,  5.77531041, -7.84043471])"
      ]
     },
     "execution_count": 29,
     "metadata": {},
     "output_type": "execute_result"
    }
   ],
   "source": [
    "# Решаем систему линейных уравнений для полинома третьей степени\n",
    "coefficients_3rd_degree = np.linalg.solve(A3, b3)\n",
    "coefficients_3rd_degree"
   ]
  },
  {
   "cell_type": "code",
   "execution_count": 30,
   "metadata": {},
   "outputs": [],
   "source": [
    "# Полученные коэффициенты полинома третьей степени\n",
    "a3, a2, a1, a0 = coefficients_3rd_degree"
   ]
  },
  {
   "cell_type": "code",
   "execution_count": 31,
   "metadata": {},
   "outputs": [
    {
     "data": {
      "text/plain": [
       "array([-6.57266488, -5.09714337, -3.44036588, -1.6288281 ,  0.31097426,\n",
       "        2.3525455 ,  4.46938992,  6.63501182,  8.82291549, 11.00660525,\n",
       "       13.15958538, 15.25536018, 17.26743396, 19.16931101, 20.93449564,\n",
       "       22.53649213, 23.94880479, 25.14493793, 26.09839583, 26.7826828 ,\n",
       "       27.17130313, 27.23776113, 26.9555611 , 26.29820732, 25.23920411])"
      ]
     },
     "execution_count": 31,
     "metadata": {},
     "output_type": "execute_result"
    }
   ],
   "source": [
    "# Строим полином для всех значений скидки\n",
    "polynomial_values_3rd_degree = a3 * discounts**3 + a2 * discounts**2 + a1 * discounts + a0\n",
    "polynomial_values_3rd_degree"
   ]
  },
  {
   "cell_type": "code",
   "execution_count": 32,
   "metadata": {},
   "outputs": [],
   "source": [
    "# Рассчитываем квадратичное отклонение (RSS) для полинома третьей степени\n",
    "RSS_3rd_degree = np.sum((profits - polynomial_values_3rd_degree)**2)"
   ]
  },
  {
   "cell_type": "code",
   "execution_count": 33,
   "metadata": {},
   "outputs": [
    {
     "name": "stdout",
     "output_type": "stream",
     "text": [
      "RSS для полинома второй степени: 120.78752609259324\n",
      "RSS для полинома третьей степени: 1.7819268239385009\n"
     ]
    }
   ],
   "source": [
    "# Сравниваем RSS для полинома второй и третьей степени\n",
    "\n",
    "# Выводим результаты\n",
    "print(f\"RSS для полинома второй степени: {RSS}\")\n",
    "print(f\"RSS для полинома третьей степени: {RSS_3rd_degree}\")"
   ]
  },
  {
   "cell_type": "code",
   "execution_count": 34,
   "metadata": {},
   "outputs": [
    {
     "data": {
      "image/png": "[encoded data removed]",
      "text/plain": [
       "<Figure size 640x480 with 1 Axes>"
      ]
     },
     "metadata": {},
     "output_type": "display_data"
    }
   ],
   "source": [
    "# Графики для обоих полиномов\n",
    "plt.scatter(discounts, profits, color='blue', label='Исходные данные')\n",
    "plt.plot(discounts, polynomial_values, color='red', label='Полином второй степени')\n",
    "plt.plot(discounts, polynomial_values_3rd_degree, color='green', label='Полином третьей степени')\n",
    "plt.xlabel('Скидка')\n",
    "plt.ylabel('Прибыль')\n",
    "plt.legend()\n",
    "plt.show()"
   ]
  },
  {
   "cell_type": "code",
   "execution_count": 35,
   "metadata": {},
   "outputs": [
    {
     "data": {
      "text/plain": [
       "np.float64(12.992096946559268)"
      ]
     },
     "execution_count": 35,
     "metadata": {},
     "output_type": "execute_result"
    }
   ],
   "source": [
    "profit_with_6_percent_discount = a3 * 6**3 + a2 * 6**2 + a1 * 6 + a0\n",
    "profit_with_6_percent_discount"
   ]
  },
  {
   "cell_type": "code",
   "execution_count": 36,
   "metadata": {},
   "outputs": [
    {
     "data": {
      "text/plain": [
       "np.float64(-56.86085330610341)"
      ]
     },
     "execution_count": 36,
     "metadata": {},
     "output_type": "execute_result"
    }
   ],
   "source": [
    "profit_with_6_percent_discount = a3 * 8**3 + a2 * 8**2 + a1 * 8 + a0\n",
    "profit_with_6_percent_discount"
   ]
  }
 ],
 "metadata": {
  "kernelspec": {
   "display_name": ".venv",
   "language": "python",
   "name": "python3"
  },
  "language_info": {
   "codemirror_mode": {
    "name": "ipython",
    "version": 3
   },
   "file_extension": ".py",
   "mimetype": "text/x-python",
   "name": "python",
   "nbconvert_exporter": "python",
   "pygments_lexer": "ipython3",
   "version": "3.13.0"
  }
 },
 "nbformat": 4,
 "nbformat_minor": 2
}
